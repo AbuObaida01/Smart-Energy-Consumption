{
  "nbformat": 4,
  "nbformat_minor": 0,
  "metadata": {
    "colab": {
      "provenance": [],
      "authorship_tag": "ABX9TyOxE1U9nZeFmpqAeUZ9tm0j",
      "include_colab_link": true
    },
    "kernelspec": {
      "name": "python3",
      "display_name": "Python 3"
    },
    "language_info": {
      "name": "python"
    }
  },
  "cells": [
    {
      "cell_type": "markdown",
      "metadata": {
        "id": "view-in-github",
        "colab_type": "text"
      },
      "source": [
        "<a href=\"https://colab.research.google.com/github/AbuObaida01/Week-1/blob/main/WEEK1_SMART_ENERGY_CONSUMPTION.ipynb\" target=\"_parent\"><img src=\"https://colab.research.google.com/assets/colab-badge.svg\" alt=\"Open In Colab\"/></a>"
      ]
    },
    {
      "cell_type": "markdown",
      "source": [
        "# Smart Energy Consumption\n"
      ],
      "metadata": {
        "id": "VnJmllH0HMkn"
      }
    },
    {
      "cell_type": "markdown",
      "source": [
        "### **Problem Statement:**\n",
        "This project will analyze how different household use their electricity by a dataset on kaggle. It will prepare data and foundational analysis for building an AI powered recommendation system that will tell you how you can optimize energy efficiency and reduce houshold energy cost."
      ],
      "metadata": {
        "id": "I6jZSBjT8es6"
      }
    },
    {
      "cell_type": "markdown",
      "source": [
        "### Importing Libraries"
      ],
      "metadata": {
        "id": "Guqr-wQT_BzG"
      }
    },
    {
      "cell_type": "code",
      "source": [
        "import pandas as pd\n",
        "import numpy as np\n",
        "import matplotlib.pyplot as plt\n",
        "import seaborn as sns\n",
        "from sklearn.model_selection import train_test_split\n",
        "\n",
        "\n",
        "print(\"Done\")"
      ],
      "metadata": {
        "colab": {
          "base_uri": "https://localhost:8080/"
        },
        "id": "Qg8AmxOyATua",
        "outputId": "496fddaa-31cd-42f6-ed26-0bf9adcfd80b"
      },
      "execution_count": 12,
      "outputs": [
        {
          "output_type": "stream",
          "name": "stdout",
          "text": [
            "Done\n"
          ]
        }
      ]
    },
    {
      "cell_type": "markdown",
      "source": [
        "### Dataset Overview"
      ],
      "metadata": {
        "id": "o3Kr7tHPA0gg"
      }
    },
    {
      "cell_type": "markdown",
      "source": [
        "Source: https://www.kaggle.com/datasets/samxsam/household-energy-consumption     \n",
        "File: household_energy_consumption.csv\n",
        "\n",
        "This kaggle dataset contains records of thousands of household\n",
        "\n",
        "Like:\n",
        "\n",
        "1.   House Hold ID\n",
        "2.   Date\n",
        "\n",
        "1.   Energy_consumption_kWh\n",
        "\n",
        "2.   Household Size\n",
        "\n",
        "1.   Avg_temperature_C\n",
        "2.   Has AC\n",
        "\n",
        "1.   Peak Hour Usage in kWh\n",
        "\n",
        "\n",
        "\n",
        "\n",
        "\n",
        "\n",
        "\n",
        "\n",
        "\n",
        "\n",
        "\n",
        "\n",
        "\n"
      ],
      "metadata": {
        "id": "he-yDNy7BAEh"
      }
    },
    {
      "cell_type": "code",
      "source": [
        "df = pd.read_csv('household_energy_consumption.csv')\n",
        "print(\"Dataset loaded: \", df.shape)\n",
        "df.head()"
      ],
      "metadata": {
        "colab": {
          "base_uri": "https://localhost:8080/",
          "height": 223
        },
        "id": "jm4xRRgkDfGi",
        "outputId": "a68cc334-1f61-44e9-eedd-fb3a952e5154"
      },
      "execution_count": 13,
      "outputs": [
        {
          "output_type": "stream",
          "name": "stdout",
          "text": [
            "Dataset loaded:  (90000, 7)\n"
          ]
        },
        {
          "output_type": "execute_result",
          "data": {
            "text/plain": [
              "  Household_ID        Date  Energy_Consumption_kWh  Household_Size  \\\n",
              "0       H00001  2025-04-01                     8.4               4   \n",
              "1       H00001  2025-04-02                     7.9               4   \n",
              "2       H00001  2025-04-03                     9.2               4   \n",
              "3       H00001  2025-04-04                     7.9               4   \n",
              "4       H00001  2025-04-05                     9.6               4   \n",
              "\n",
              "   Avg_Temperature_C Has_AC  Peak_Hours_Usage_kWh  \n",
              "0               17.8     No                   3.2  \n",
              "1               17.3     No                   2.8  \n",
              "2               18.6     No                   3.0  \n",
              "3               18.2     No                   2.7  \n",
              "4               11.9     No                   3.2  "
            ],
            "text/html": [
              "\n",
              "  <div id=\"df-2a6073fb-a8b2-41e5-89b1-fa8b0e9989fc\" class=\"colab-df-container\">\n",
              "    <div>\n",
              "<style scoped>\n",
              "    .dataframe tbody tr th:only-of-type {\n",
              "        vertical-align: middle;\n",
              "    }\n",
              "\n",
              "    .dataframe tbody tr th {\n",
              "        vertical-align: top;\n",
              "    }\n",
              "\n",
              "    .dataframe thead th {\n",
              "        text-align: right;\n",
              "    }\n",
              "</style>\n",
              "<table border=\"1\" class=\"dataframe\">\n",
              "  <thead>\n",
              "    <tr style=\"text-align: right;\">\n",
              "      <th></th>\n",
              "      <th>Household_ID</th>\n",
              "      <th>Date</th>\n",
              "      <th>Energy_Consumption_kWh</th>\n",
              "      <th>Household_Size</th>\n",
              "      <th>Avg_Temperature_C</th>\n",
              "      <th>Has_AC</th>\n",
              "      <th>Peak_Hours_Usage_kWh</th>\n",
              "    </tr>\n",
              "  </thead>\n",
              "  <tbody>\n",
              "    <tr>\n",
              "      <th>0</th>\n",
              "      <td>H00001</td>\n",
              "      <td>2025-04-01</td>\n",
              "      <td>8.4</td>\n",
              "      <td>4</td>\n",
              "      <td>17.8</td>\n",
              "      <td>No</td>\n",
              "      <td>3.2</td>\n",
              "    </tr>\n",
              "    <tr>\n",
              "      <th>1</th>\n",
              "      <td>H00001</td>\n",
              "      <td>2025-04-02</td>\n",
              "      <td>7.9</td>\n",
              "      <td>4</td>\n",
              "      <td>17.3</td>\n",
              "      <td>No</td>\n",
              "      <td>2.8</td>\n",
              "    </tr>\n",
              "    <tr>\n",
              "      <th>2</th>\n",
              "      <td>H00001</td>\n",
              "      <td>2025-04-03</td>\n",
              "      <td>9.2</td>\n",
              "      <td>4</td>\n",
              "      <td>18.6</td>\n",
              "      <td>No</td>\n",
              "      <td>3.0</td>\n",
              "    </tr>\n",
              "    <tr>\n",
              "      <th>3</th>\n",
              "      <td>H00001</td>\n",
              "      <td>2025-04-04</td>\n",
              "      <td>7.9</td>\n",
              "      <td>4</td>\n",
              "      <td>18.2</td>\n",
              "      <td>No</td>\n",
              "      <td>2.7</td>\n",
              "    </tr>\n",
              "    <tr>\n",
              "      <th>4</th>\n",
              "      <td>H00001</td>\n",
              "      <td>2025-04-05</td>\n",
              "      <td>9.6</td>\n",
              "      <td>4</td>\n",
              "      <td>11.9</td>\n",
              "      <td>No</td>\n",
              "      <td>3.2</td>\n",
              "    </tr>\n",
              "  </tbody>\n",
              "</table>\n",
              "</div>\n",
              "    <div class=\"colab-df-buttons\">\n",
              "\n",
              "  <div class=\"colab-df-container\">\n",
              "    <button class=\"colab-df-convert\" onclick=\"convertToInteractive('df-2a6073fb-a8b2-41e5-89b1-fa8b0e9989fc')\"\n",
              "            title=\"Convert this dataframe to an interactive table.\"\n",
              "            style=\"display:none;\">\n",
              "\n",
              "  <svg xmlns=\"http://www.w3.org/2000/svg\" height=\"24px\" viewBox=\"0 -960 960 960\">\n",
              "    <path d=\"M120-120v-720h720v720H120Zm60-500h600v-160H180v160Zm220 220h160v-160H400v160Zm0 220h160v-160H400v160ZM180-400h160v-160H180v160Zm440 0h160v-160H620v160ZM180-180h160v-160H180v160Zm440 0h160v-160H620v160Z\"/>\n",
              "  </svg>\n",
              "    </button>\n",
              "\n",
              "  <style>\n",
              "    .colab-df-container {\n",
              "      display:flex;\n",
              "      gap: 12px;\n",
              "    }\n",
              "\n",
              "    .colab-df-convert {\n",
              "      background-color: #E8F0FE;\n",
              "      border: none;\n",
              "      border-radius: 50%;\n",
              "      cursor: pointer;\n",
              "      display: none;\n",
              "      fill: #1967D2;\n",
              "      height: 32px;\n",
              "      padding: 0 0 0 0;\n",
              "      width: 32px;\n",
              "    }\n",
              "\n",
              "    .colab-df-convert:hover {\n",
              "      background-color: #E2EBFA;\n",
              "      box-shadow: 0px 1px 2px rgba(60, 64, 67, 0.3), 0px 1px 3px 1px rgba(60, 64, 67, 0.15);\n",
              "      fill: #174EA6;\n",
              "    }\n",
              "\n",
              "    .colab-df-buttons div {\n",
              "      margin-bottom: 4px;\n",
              "    }\n",
              "\n",
              "    [theme=dark] .colab-df-convert {\n",
              "      background-color: #3B4455;\n",
              "      fill: #D2E3FC;\n",
              "    }\n",
              "\n",
              "    [theme=dark] .colab-df-convert:hover {\n",
              "      background-color: #434B5C;\n",
              "      box-shadow: 0px 1px 3px 1px rgba(0, 0, 0, 0.15);\n",
              "      filter: drop-shadow(0px 1px 2px rgba(0, 0, 0, 0.3));\n",
              "      fill: #FFFFFF;\n",
              "    }\n",
              "  </style>\n",
              "\n",
              "    <script>\n",
              "      const buttonEl =\n",
              "        document.querySelector('#df-2a6073fb-a8b2-41e5-89b1-fa8b0e9989fc button.colab-df-convert');\n",
              "      buttonEl.style.display =\n",
              "        google.colab.kernel.accessAllowed ? 'block' : 'none';\n",
              "\n",
              "      async function convertToInteractive(key) {\n",
              "        const element = document.querySelector('#df-2a6073fb-a8b2-41e5-89b1-fa8b0e9989fc');\n",
              "        const dataTable =\n",
              "          await google.colab.kernel.invokeFunction('convertToInteractive',\n",
              "                                                    [key], {});\n",
              "        if (!dataTable) return;\n",
              "\n",
              "        const docLinkHtml = 'Like what you see? Visit the ' +\n",
              "          '<a target=\"_blank\" href=https://colab.research.google.com/notebooks/data_table.ipynb>data table notebook</a>'\n",
              "          + ' to learn more about interactive tables.';\n",
              "        element.innerHTML = '';\n",
              "        dataTable['output_type'] = 'display_data';\n",
              "        await google.colab.output.renderOutput(dataTable, element);\n",
              "        const docLink = document.createElement('div');\n",
              "        docLink.innerHTML = docLinkHtml;\n",
              "        element.appendChild(docLink);\n",
              "      }\n",
              "    </script>\n",
              "  </div>\n",
              "\n",
              "\n",
              "    <div id=\"df-2218ed13-225b-4c99-b5e5-ad8d248a4561\">\n",
              "      <button class=\"colab-df-quickchart\" onclick=\"quickchart('df-2218ed13-225b-4c99-b5e5-ad8d248a4561')\"\n",
              "                title=\"Suggest charts\"\n",
              "                style=\"display:none;\">\n",
              "\n",
              "<svg xmlns=\"http://www.w3.org/2000/svg\" height=\"24px\"viewBox=\"0 0 24 24\"\n",
              "     width=\"24px\">\n",
              "    <g>\n",
              "        <path d=\"M19 3H5c-1.1 0-2 .9-2 2v14c0 1.1.9 2 2 2h14c1.1 0 2-.9 2-2V5c0-1.1-.9-2-2-2zM9 17H7v-7h2v7zm4 0h-2V7h2v10zm4 0h-2v-4h2v4z\"/>\n",
              "    </g>\n",
              "</svg>\n",
              "      </button>\n",
              "\n",
              "<style>\n",
              "  .colab-df-quickchart {\n",
              "      --bg-color: #E8F0FE;\n",
              "      --fill-color: #1967D2;\n",
              "      --hover-bg-color: #E2EBFA;\n",
              "      --hover-fill-color: #174EA6;\n",
              "      --disabled-fill-color: #AAA;\n",
              "      --disabled-bg-color: #DDD;\n",
              "  }\n",
              "\n",
              "  [theme=dark] .colab-df-quickchart {\n",
              "      --bg-color: #3B4455;\n",
              "      --fill-color: #D2E3FC;\n",
              "      --hover-bg-color: #434B5C;\n",
              "      --hover-fill-color: #FFFFFF;\n",
              "      --disabled-bg-color: #3B4455;\n",
              "      --disabled-fill-color: #666;\n",
              "  }\n",
              "\n",
              "  .colab-df-quickchart {\n",
              "    background-color: var(--bg-color);\n",
              "    border: none;\n",
              "    border-radius: 50%;\n",
              "    cursor: pointer;\n",
              "    display: none;\n",
              "    fill: var(--fill-color);\n",
              "    height: 32px;\n",
              "    padding: 0;\n",
              "    width: 32px;\n",
              "  }\n",
              "\n",
              "  .colab-df-quickchart:hover {\n",
              "    background-color: var(--hover-bg-color);\n",
              "    box-shadow: 0 1px 2px rgba(60, 64, 67, 0.3), 0 1px 3px 1px rgba(60, 64, 67, 0.15);\n",
              "    fill: var(--button-hover-fill-color);\n",
              "  }\n",
              "\n",
              "  .colab-df-quickchart-complete:disabled,\n",
              "  .colab-df-quickchart-complete:disabled:hover {\n",
              "    background-color: var(--disabled-bg-color);\n",
              "    fill: var(--disabled-fill-color);\n",
              "    box-shadow: none;\n",
              "  }\n",
              "\n",
              "  .colab-df-spinner {\n",
              "    border: 2px solid var(--fill-color);\n",
              "    border-color: transparent;\n",
              "    border-bottom-color: var(--fill-color);\n",
              "    animation:\n",
              "      spin 1s steps(1) infinite;\n",
              "  }\n",
              "\n",
              "  @keyframes spin {\n",
              "    0% {\n",
              "      border-color: transparent;\n",
              "      border-bottom-color: var(--fill-color);\n",
              "      border-left-color: var(--fill-color);\n",
              "    }\n",
              "    20% {\n",
              "      border-color: transparent;\n",
              "      border-left-color: var(--fill-color);\n",
              "      border-top-color: var(--fill-color);\n",
              "    }\n",
              "    30% {\n",
              "      border-color: transparent;\n",
              "      border-left-color: var(--fill-color);\n",
              "      border-top-color: var(--fill-color);\n",
              "      border-right-color: var(--fill-color);\n",
              "    }\n",
              "    40% {\n",
              "      border-color: transparent;\n",
              "      border-right-color: var(--fill-color);\n",
              "      border-top-color: var(--fill-color);\n",
              "    }\n",
              "    60% {\n",
              "      border-color: transparent;\n",
              "      border-right-color: var(--fill-color);\n",
              "    }\n",
              "    80% {\n",
              "      border-color: transparent;\n",
              "      border-right-color: var(--fill-color);\n",
              "      border-bottom-color: var(--fill-color);\n",
              "    }\n",
              "    90% {\n",
              "      border-color: transparent;\n",
              "      border-bottom-color: var(--fill-color);\n",
              "    }\n",
              "  }\n",
              "</style>\n",
              "\n",
              "      <script>\n",
              "        async function quickchart(key) {\n",
              "          const quickchartButtonEl =\n",
              "            document.querySelector('#' + key + ' button');\n",
              "          quickchartButtonEl.disabled = true;  // To prevent multiple clicks.\n",
              "          quickchartButtonEl.classList.add('colab-df-spinner');\n",
              "          try {\n",
              "            const charts = await google.colab.kernel.invokeFunction(\n",
              "                'suggestCharts', [key], {});\n",
              "          } catch (error) {\n",
              "            console.error('Error during call to suggestCharts:', error);\n",
              "          }\n",
              "          quickchartButtonEl.classList.remove('colab-df-spinner');\n",
              "          quickchartButtonEl.classList.add('colab-df-quickchart-complete');\n",
              "        }\n",
              "        (() => {\n",
              "          let quickchartButtonEl =\n",
              "            document.querySelector('#df-2218ed13-225b-4c99-b5e5-ad8d248a4561 button');\n",
              "          quickchartButtonEl.style.display =\n",
              "            google.colab.kernel.accessAllowed ? 'block' : 'none';\n",
              "        })();\n",
              "      </script>\n",
              "    </div>\n",
              "\n",
              "    </div>\n",
              "  </div>\n"
            ],
            "application/vnd.google.colaboratory.intrinsic+json": {
              "type": "dataframe",
              "variable_name": "df",
              "summary": "{\n  \"name\": \"df\",\n  \"rows\": 90000,\n  \"fields\": [\n    {\n      \"column\": \"Household_ID\",\n      \"properties\": {\n        \"dtype\": \"category\",\n        \"num_unique_values\": 12857,\n        \"samples\": [\n          \"H07812\",\n          \"H01563\",\n          \"H00354\"\n        ],\n        \"semantic_type\": \"\",\n        \"description\": \"\"\n      }\n    },\n    {\n      \"column\": \"Date\",\n      \"properties\": {\n        \"dtype\": \"object\",\n        \"num_unique_values\": 8,\n        \"samples\": [\n          \"2025-04-02\",\n          \"2025-04-06\",\n          \"2025-04-01\"\n        ],\n        \"semantic_type\": \"\",\n        \"description\": \"\"\n      }\n    },\n    {\n      \"column\": \"Energy_Consumption_kWh\",\n      \"properties\": {\n        \"dtype\": \"number\",\n        \"std\": 5.519494414452273,\n        \"min\": 0.5,\n        \"max\": 20.0,\n        \"num_unique_values\": 196,\n        \"samples\": [\n          14.6,\n          6.0,\n          7.7\n        ],\n        \"semantic_type\": \"\",\n        \"description\": \"\"\n      }\n    },\n    {\n      \"column\": \"Household_Size\",\n      \"properties\": {\n        \"dtype\": \"number\",\n        \"std\": 1,\n        \"min\": 1,\n        \"max\": 6,\n        \"num_unique_values\": 6,\n        \"samples\": [\n          4,\n          5,\n          1\n        ],\n        \"semantic_type\": \"\",\n        \"description\": \"\"\n      }\n    },\n    {\n      \"column\": \"Avg_Temperature_C\",\n      \"properties\": {\n        \"dtype\": \"number\",\n        \"std\": 2.4916206199822364,\n        \"min\": 10.0,\n        \"max\": 25.0,\n        \"num_unique_values\": 151,\n        \"samples\": [\n          16.7,\n          16.8,\n          21.3\n        ],\n        \"semantic_type\": \"\",\n        \"description\": \"\"\n      }\n    },\n    {\n      \"column\": \"Has_AC\",\n      \"properties\": {\n        \"dtype\": \"category\",\n        \"num_unique_values\": 2,\n        \"samples\": [\n          \"Yes\",\n          \"No\"\n        ],\n        \"semantic_type\": \"\",\n        \"description\": \"\"\n      }\n    },\n    {\n      \"column\": \"Peak_Hours_Usage_kWh\",\n      \"properties\": {\n        \"dtype\": \"number\",\n        \"std\": 2.5314324808548467,\n        \"min\": 0.2,\n        \"max\": 10.0,\n        \"num_unique_values\": 99,\n        \"samples\": [\n          7.5,\n          2.3\n        ],\n        \"semantic_type\": \"\",\n        \"description\": \"\"\n      }\n    }\n  ]\n}"
            }
          },
          "metadata": {},
          "execution_count": 13
        }
      ]
    },
    {
      "cell_type": "markdown",
      "source": [
        "### Inspecting the data structure"
      ],
      "metadata": {
        "id": "qxs_W4R4EYGR"
      }
    },
    {
      "cell_type": "code",
      "source": [
        "print(\"Dataset Info:\")\n",
        "df.info()\n",
        "\n",
        "print(\"\\nFirst rows:\")\n",
        "print(df.head())"
      ],
      "metadata": {
        "colab": {
          "base_uri": "https://localhost:8080/"
        },
        "id": "SXfO09wjEn9x",
        "outputId": "b071150f-cd8d-4e64-f58c-1d295483199f"
      },
      "execution_count": 14,
      "outputs": [
        {
          "output_type": "stream",
          "name": "stdout",
          "text": [
            "Dataset Info:\n",
            "<class 'pandas.core.frame.DataFrame'>\n",
            "RangeIndex: 90000 entries, 0 to 89999\n",
            "Data columns (total 7 columns):\n",
            " #   Column                  Non-Null Count  Dtype  \n",
            "---  ------                  --------------  -----  \n",
            " 0   Household_ID            90000 non-null  object \n",
            " 1   Date                    90000 non-null  object \n",
            " 2   Energy_Consumption_kWh  90000 non-null  float64\n",
            " 3   Household_Size          90000 non-null  int64  \n",
            " 4   Avg_Temperature_C       90000 non-null  float64\n",
            " 5   Has_AC                  90000 non-null  object \n",
            " 6   Peak_Hours_Usage_kWh    90000 non-null  float64\n",
            "dtypes: float64(3), int64(1), object(3)\n",
            "memory usage: 4.8+ MB\n",
            "\n",
            "First rows:\n",
            "  Household_ID        Date  Energy_Consumption_kWh  Household_Size  \\\n",
            "0       H00001  2025-04-01                     8.4               4   \n",
            "1       H00001  2025-04-02                     7.9               4   \n",
            "2       H00001  2025-04-03                     9.2               4   \n",
            "3       H00001  2025-04-04                     7.9               4   \n",
            "4       H00001  2025-04-05                     9.6               4   \n",
            "\n",
            "   Avg_Temperature_C Has_AC  Peak_Hours_Usage_kWh  \n",
            "0               17.8     No                   3.2  \n",
            "1               17.3     No                   2.8  \n",
            "2               18.6     No                   3.0  \n",
            "3               18.2     No                   2.7  \n",
            "4               11.9     No                   3.2  \n"
          ]
        }
      ]
    },
    {
      "cell_type": "markdown",
      "source": [
        "### Checking For Missing Values"
      ],
      "metadata": {
        "id": "dPgYrOl4E-Fu"
      }
    },
    {
      "cell_type": "code",
      "source": [
        "print(\"Missing values by column:\")\n",
        "print(df.isnull().sum())"
      ],
      "metadata": {
        "colab": {
          "base_uri": "https://localhost:8080/"
        },
        "id": "yhuZWvL8FIbl",
        "outputId": "0af4622a-41e2-44b6-946f-fff5ddb023ac"
      },
      "execution_count": 15,
      "outputs": [
        {
          "output_type": "stream",
          "name": "stdout",
          "text": [
            "Missing values by column:\n",
            "Household_ID              0\n",
            "Date                      0\n",
            "Energy_Consumption_kWh    0\n",
            "Household_Size            0\n",
            "Avg_Temperature_C         0\n",
            "Has_AC                    0\n",
            "Peak_Hours_Usage_kWh      0\n",
            "dtype: int64\n"
          ]
        }
      ]
    },
    {
      "cell_type": "markdown",
      "source": [
        "### Basic Data Cleaning"
      ],
      "metadata": {
        "id": "-CDNkInsFkwq"
      }
    },
    {
      "cell_type": "code",
      "source": [
        "df['Date'] = pd.to_datetime(df['Date'], errors='coerce')\n",
        "df.dropna(subset=['Date'], inplace=True)\n",
        "if 'Has_AC' in df.columns:\n",
        "    df['Has_AC'] = df['Has_AC'].map({'Yes': 1, 'No': 0})\n",
        "if 'Avg_Temperature_C' in df.columns:\n",
        "    temp_median = df['Avg_Temperature_C'].median()\n",
        "    df['Avg_Temperature_C'] = df['Avg_Temperature_C'].fillna(temp_median)\n",
        "if 'Household_Size' in df.columns:\n",
        "    size_mode = df['Household_Size'].mode()[0]\n",
        "    df['Household_Size'] = df['Household_Size'].fillna(size_mode)\n",
        "print(\"Your Data Is Clean\")"
      ],
      "metadata": {
        "colab": {
          "base_uri": "https://localhost:8080/"
        },
        "id": "BtcaLQePFqAN",
        "outputId": "d8a2623b-849d-449a-dc04-8ab700ec2793"
      },
      "execution_count": 16,
      "outputs": [
        {
          "output_type": "stream",
          "name": "stdout",
          "text": [
            "Your Data Is Clean\n"
          ]
        }
      ]
    },
    {
      "cell_type": "markdown",
      "source": [
        "### Data Splitiing"
      ],
      "metadata": {
        "id": "l0Vmb7lzGKBZ"
      }
    },
    {
      "cell_type": "code",
      "source": [
        "df = df.sort_values('Date')\n",
        "split_idx = int(0.8 * len(df))\n",
        "train_df = df.iloc[:split_idx]\n",
        "test_df = df.iloc[split_idx:]\n",
        "\n",
        "print(f\"Train shape: {train_df.shape}, Test shape: {test_df.shape}\")\n",
        "print(f\"Train period: {train_df['Date'].min()} to {train_df['Date'].max()}\")\n",
        "print(f\"Test period: {test_df['Date'].min()} to {test_df['Date'].max()}\")"
      ],
      "metadata": {
        "colab": {
          "base_uri": "https://localhost:8080/"
        },
        "id": "NG3ruvV-GNF1",
        "outputId": "5583f680-9a94-42c6-8cb1-411cdf3a67ec"
      },
      "execution_count": 17,
      "outputs": [
        {
          "output_type": "stream",
          "name": "stdout",
          "text": [
            "Train shape: (72000, 7), Test shape: (18000, 7)\n",
            "Train period: 2025-04-01 00:00:00 to 2025-04-06 00:00:00\n",
            "Test period: 2025-04-06 00:00:00 to 2025-04-08 00:00:00\n"
          ]
        }
      ]
    },
    {
      "cell_type": "markdown",
      "source": [
        "### Extra Part (Data Visualization)"
      ],
      "metadata": {
        "id": "lBWlv1sNGoJz"
      }
    },
    {
      "cell_type": "code",
      "source": [
        "plt.figure(figsize=(12, 6))\n",
        "plt.hist(df['Energy_Consumption_kWh'], bins=30, color='skyblue', edgecolor='black')\n",
        "plt.title('Energy Consumption Distribution')\n",
        "plt.xlabel('kWh per day')\n",
        "plt.ylabel('Number of records')\n",
        "plt.show()\n",
        "\n",
        "# Household size vs. average consumption\n",
        "plt.figure(figsize=(8,5))\n",
        "sns.barplot(x='Household_Size', y='Energy_Consumption_kWh', data=df, ci=None)\n",
        "plt.title('Average Daily Consumption by Household Size')\n",
        "plt.show()\n",
        "\n",
        "# AC vs. non-AC\n",
        "if 'Has_AC' in df.columns:\n",
        "    plt.figure(figsize=(6,4))\n",
        "    sns.barplot(x='Has_AC', y='Energy_Consumption_kWh', data=df, ci=None)\n",
        "    plt.title('Average Consumption: AC vs. No AC')\n",
        "    plt.show()"
      ],
      "metadata": {
        "colab": {
          "base_uri": "https://localhost:8080/",
          "height": 1000
        },
        "id": "QMP19L5hGwuq",
        "outputId": "4f78e80a-2c18-4483-a822-dd7ab34e3a1c"
      },
      "execution_count": 18,
      "outputs": [
        {
          "output_type": "display_data",
          "data": {
            "text/plain": [
              "<Figure size 1200x600 with 1 Axes>"
            ],
            "image/png": "[encoded data removed]"
          },
          "metadata": {}
        },
        {
          "output_type": "display_data",
          "data": {
            "text/plain": [
              "<Figure size 800x500 with 1 Axes>"
            ],
            "image/png": "[encoded data removed]"
          },
          "metadata": {}
        },
        {
          "output_type": "display_data",
          "data": {
            "text/plain": [
              "<Figure size 600x400 with 1 Axes>"
            ],
            "image/png": "[encoded data removed]"
          },
          "metadata": {}
        }
      ]
    }
  ]
}